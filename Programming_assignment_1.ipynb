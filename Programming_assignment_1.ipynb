{
 "metadata": {
  "name": "Programming_assignment_1"
 },
 "nbformat": 3,
 "nbformat_minor": 0,
 "worksheets": [
  {
   "cells": [
    {
     "cell_type": "code",
     "collapsed": false,
     "input": "import csv,urllib2\nfrom collections import defaultdict\n\nurl='https://d396qusza40orc.cloudfront.net/recsys%2Fdata%2Fratings.csv'\ncsvfile = urllib2.urlopen(url)\n\nsavesimple='/home/charis/projects/recsys/recsys-data-ratings_simple.csv'\nsaveadvanced='/home/charis/projects/recsys/recsys-data-ratings_complex.csv'\n#csvfile=open('/home/charis/projects/titanic/recsys-data-ratings.csv', 'rb')\ncsvreader=csv.reader(csvfile)\nmovies=set([])\nusers=set([])\nuser_movie_rating= defaultdict(lambda: defaultdict(int))\nfor row  in csvreader:\n    user=int(row[0])\n    movie=int(row[1])\n    rating=float(row[2])\n    user_movie_rating[movie][user]=rating\n    movies.add(movie)\n    users.add(user)",
     "language": "python",
     "metadata": {},
     "outputs": [],
     "prompt_number": 1
    },
    {
     "cell_type": "code",
     "collapsed": false,
     "input": "movies_set_users={}\nfor movie in movies:\n    movies_set_users[movie]=set([])\n    for user in user_movie_rating[movie]:\n        movies_set_users[movie].add(user)   \n\n",
     "language": "python",
     "metadata": {},
     "outputs": [],
     "prompt_number": 2
    },
    {
     "cell_type": "code",
     "collapsed": false,
     "input": "rankings_simple={}\nrankings_complex={}\n\nfor movieA in movies:\n    rankings_complex[movieA]={}\n    rankings_simple[movieA]={}\n    X=movies_set_users[movieA]\n    not_in_X=users-X\n    for movieB in movies:\n        Y=movies_set_users[movieB]        \n        not_in_Y=movies-Y\n\n        nom=float(len(X.intersection(Y)))/float(len(X))\n        rankings_simple[movieA][movieB]=nom\n        denom=float(len(not_in_X.intersection(Y)))/float(len(not_in_X))  \n        if denom!=0:\n            rankings_complex[movieA][movieB]=nom/ denom\n",
     "language": "python",
     "metadata": {},
     "outputs": [],
     "prompt_number": 3
    },
    {
     "cell_type": "code",
     "collapsed": false,
     "input": "my_list_of_movies=[4327,2024,9806]\nmy_list_of_movies=[11, 121, 8587]\n\n\nsim=[]\ncom=[]\nfor movie_to_examine in my_list_of_movies:\n\n\n    movie_list=[]\n    rating_list=[]\n    for movie,rating in rankings_simple[movie_to_examine].items():\n        movie_list.append( movie)\n        rating_list.append(rating)\n        \n        \n    rating_list, movie_list = zip(*sorted(zip(rating_list, movie_list),reverse=True))\n    \n    str_to_save_sim=[]\n    str_to_save_sim.append( movie_to_examine)\n    for i,j,it in zip (rating_list[1:],movie_list[1:],range(0,5)):\n        str_to_save_sim.append( j)\n        str_to_save_sim.append(round(i,2))\n        \n       \n        \n    movie_list=[]\n    rating_list=[]\n    for movie,rating in rankings_complex[movie_to_examine].items():\n        movie_list.append( movie)\n        rating_list.append(rating)\n        \n        \n    rating_list, movie_list = zip(*sorted(zip(rating_list, movie_list),reverse=True))\n    \n    str_to_save_comp=[]\n    str_to_save_comp.append( movie_to_examine)\n    for i,j,it in zip (rating_list,movie_list,range(0,5)):\n        str_to_save_comp.append( j)\n        str_to_save_comp.append(round(i,2))\n        \n    sim.append(str_to_save_sim)\n    com.append(str_to_save_comp)\n\n    \n    \ncsvfile1=open(savesimple, 'wb')\ncsvfile2=open(saveadvanced, 'wb')\ncsvwriter1=csv.writer(csvfile1)\ncsvwriter2=csv.writer(csvfile2)\n\nfor i in sim:\n    csvwriter1.writerow(i)\n    print i\n\nfor i in com:\n    csvwriter2.writerow(i)\n    print i\n",
     "language": "python",
     "metadata": {},
     "outputs": [
      {
       "output_type": "stream",
       "stream": "stdout",
       "text": "[11, 603, 0.96, 1892, 0.94, 1891, 0.94, 120, 0.93, 1894, 0.93]\n[121, 120, 0.95, 122, 0.95, 603, 0.94, 597, 0.89, 604, 0.88]\n[8587, 603, 0.92, 597, 0.9, 607, 0.87, 120, 0.86, 13, 0.86]\n[11, 1891, 5.69, 1892, 5.65, 243, 5.0, 1894, 4.72, 2164, 4.11]\n[121, 122, 4.74, 120, 3.82, 2164, 3.4, 243, 3.26, 1894, 3.22]\n[8587, 10020, 4.18, 812, 4.03, 7443, 2.63, 9331, 2.46, 786, 2.39]\n"
      }
     ],
     "prompt_number": 4
    },
    {
     "cell_type": "code",
     "collapsed": false,
     "input": "",
     "language": "python",
     "metadata": {},
     "outputs": []
    }
   ],
   "metadata": {}
  }
 ]
}
